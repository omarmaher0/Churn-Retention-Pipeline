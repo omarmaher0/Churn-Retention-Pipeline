from datasets import load_dataset

dataset = load_dataset("aai510-group1/telco-customer-churn")

print(dataset["train"][0])
