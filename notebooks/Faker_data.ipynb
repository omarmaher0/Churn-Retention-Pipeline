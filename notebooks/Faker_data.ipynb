{
 "cells": [
  {
   "cell_type": "code",
   "execution_count": null,
   "id": "626862a3",
   "metadata": {
    "vscode": {
     "languageId": "plaintext"
    }
   },
   "outputs": [],
   "source": [
    "import pandas as pd\n",
    "import random\n",
    "from faker import Faker\n",
    "\n",
    "customers = pd.read_csv(\"/content/telco_customer_churn.csv\")\n",
    "\n",
    "fake = Faker()\n",
    "\n",
    "# --------- Payments ---------\n",
    "payments = []\n",
    "for cust_id in customers[\"Customer ID\"]:\n",
    "    for _ in range(random.randint(3, 12)):\n",
    "        amount_due = random.choice([20, 35, 50, 70, 100])  \n",
    "        delay = random.choice([0, 0, 0, 5, 10, 15])        \n",
    "        status = \"Paid\" if delay == 0 else \"Late\"\n",
    "        payments.append({\n",
    "            \"PaymentID\": fake.uuid4(),\n",
    "            \"customerID\": cust_id,  \n",
    "            \"InvoiceDate\": fake.date_between(start_date=\"-1y\", end_date=\"today\"),\n",
    "            \"AmountDue\": amount_due,\n",
    "            \"AmountPaid\": amount_due if delay == 0 else 0,  \n",
    "            \"PaymentMethod\": random.choice([\"Credit Card\", \"Debit Card\", \"Bank Transfer\", \"Cash\"]),\n",
    "            \"PaymentStatus\": status,\n",
    "            \"DelayDays\": delay\n",
    "        })\n",
    "\n",
    "payments_df = pd.DataFrame(payments)\n",
    "\n",
    "# ---------  Complaints ---------\n",
    "complaints = []\n",
    "for cust_id in customers[\"Customer ID\"]:\n",
    "    if random.random() < 0.3:\n",
    "        for _ in range(random.randint(1, 3)):\n",
    "            resolution_time = random.randint(1, 10)  \n",
    "            complaints.append({\n",
    "                \"TicketID\": fake.uuid4(),\n",
    "                \"customerID\": cust_id,  \n",
    "                \"DateOpened\": fake.date_between(start_date=\"-1y\", end_date=\"today\"),\n",
    "                \"Category\": random.choice([\"Billing Issue\", \"Network Problem\", \"Service Request\", \"Other\"]),\n",
    "                \"ResolutionTime_Days\": resolution_time,\n",
    "                \"Status\": random.choice([\"Resolved\", \"Open\"])\n",
    "            })\n",
    "\n",
    "complaints_df = pd.DataFrame(complaints)\n",
    "\n",
    "payments_df.to_csv(\"payments.csv\", index=False)\n",
    "complaints_df.to_csv(\"complaints.csv\", index=False)\n"
   ]
  }
 ],
 "metadata": {
  "language_info": {
   "name": "python"
  }
 },
 "nbformat": 4,
 "nbformat_minor": 5
}
